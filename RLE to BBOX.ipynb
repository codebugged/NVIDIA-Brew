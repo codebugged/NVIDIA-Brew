{
  "nbformat": 4,
  "nbformat_minor": 0,
  "metadata": {
    "colab": {
      "name": "Dataset_Conversion_BBOX_kitti.ipynb",
      "provenance": [],
      "collapsed_sections": []
    },
    "kernelspec": {
      "name": "python3",
      "display_name": "Python 3"
    },
    "language_info": {
      "name": "python"
    }
  },
  "cells": [
    {
      "cell_type": "code",
      "metadata": {
        "colab": {
          "base_uri": "https://localhost:8080/"
        },
        "id": "-6tQYegRiFDX",
        "outputId": "210b59e6-ccdd-4783-c8ae-6f5cf83606b0"
      },
      "source": [
        "from google.colab import drive\n",
        "drive.mount(\"/content/drive\")"
      ],
      "execution_count": null,
      "outputs": [
        {
          "output_type": "stream",
          "text": [
            "Drive already mounted at /content/drive; to attempt to forcibly remount, call drive.mount(\"/content/drive\", force_remount=True).\n"
          ],
          "name": "stdout"
        }
      ]
    },
    {
      "cell_type": "code",
      "metadata": {
        "id": "TcoX_uHcr-Kp"
      },
      "source": [
        "import cv2\n",
        "from tqdm import tqdm\n",
        "import numpy as np # linear algebra\n",
        "import pandas as pd # data processing, CSV file I/O (e.g. pd.read_csv)\n",
        "from skimage.io import imread\n",
        "import matplotlib.pyplot as plt\n",
        "from skimage.segmentation import mark_boundaries\n",
        "from skimage.measure import label, regionprops\n",
        "from skimage.util import montage as montage\n",
        "montage_rgb = lambda x: np.stack([montage(x[:, :, :, i]) for i in range(x.shape[3])], -1)\n",
        "\n",
        "from skimage.morphology import label"
      ],
      "execution_count": null,
      "outputs": []
    },
    {
      "cell_type": "code",
      "metadata": {
        "id": "4IWvaRRr1nDl"
      },
      "source": [
        "!unzip '/content/drive/MyDrive/Severstal Steel Defect Detection/train_images.zip' -d '/content/train_images'"
      ],
      "execution_count": null,
      "outputs": []
    },
    {
      "cell_type": "code",
      "metadata": {
        "id": "Qbofwuzf84JY"
      },
      "source": [
        "def rle_decode(mask_rle, shape=(768, 768)):\n",
        "    \"\"\"\n",
        "    mask_rle: run-length as string formated (start length)\n",
        "    shape: (height,width) of array to return \n",
        "    Returns numpy array, 1 - mask, 0 - background\n",
        "    \"\"\"\n",
        "    s = mask_rle.split()\n",
        "    starts, lengths = [np.asarray(x, dtype=int) for x in (s[0:][::2], s[1:][::2])]\n",
        "    starts -= 1\n",
        "    ends = starts + lengths\n",
        "    img = np.zeros(shape[0]*shape[1], dtype=np.uint8)\n",
        "    for lo, hi in zip(starts, ends):\n",
        "        img[lo:hi] = 1\n",
        "    return img.reshape((shape[1], shape[0])).T  # Needed to align to RLE direction\n",
        "\n",
        "def masks_as_image(in_mask_list, all_masks=None, shape=(256, 1600)):\n",
        "    \n",
        "    # Take the individual masks and create a single mask array\n",
        "    if all_masks is None:\n",
        "        all_masks = np.zeros(shape, dtype = np.int16)\n",
        "    #if isinstance(in_mask_list, list):\n",
        "    for mask in in_mask_list:\n",
        "        if isinstance(mask, str):\n",
        "            all_masks += rle_decode(mask, shape)\n",
        "    return np.expand_dims(all_masks, -1)\n",
        "\n",
        "def get_bboxes_from_rle(encoded_pixels, return_mask=False):\n",
        "    \"\"\"get all bboxes from a whole mask label\"\"\"\n",
        "    \n",
        "    mask = masks_as_image([encoded_pixels])\n",
        "    lbl = label(mask) \n",
        "    \n",
        "    props = regionprops(lbl)\n",
        "\n",
        "    #get bboxes by a for loop\n",
        "    bboxes = []\n",
        "    for prop in props:\n",
        "        bboxes.append([prop.bbox[1], prop.bbox[0], prop.bbox[4], prop.bbox[3]])\n",
        "\n",
        "    if return_mask:\n",
        "        return bboxes, mask \n",
        "    return bboxes"
      ],
      "execution_count": null,
      "outputs": []
    },
    {
      "cell_type": "code",
      "metadata": {
        "colab": {
          "base_uri": "https://localhost:8080/",
          "height": 1000
        },
        "id": "wxVx2sdYsIPU",
        "outputId": "9def66d7-f7e1-4164-9209-e4ad28d18699"
      },
      "source": [
        "ann_file_path = '/content/drive/MyDrive/Severstal Steel Defect Detection/train_steel.csv'\n",
        "train_image_dir = '/content/train_images'\n",
        "images = ['0002cc93b.jpg', '0007a71bf.jpg', '000789191.jpg'] # some images for test\n",
        "\n",
        "ann_csv = pd.read_csv(ann_file_path)\n",
        "ann_csv['ImageId_ClassId'] = ann_csv['ImageId'].astype(str) + \"_\" + ann_csv['ClassId'].astype(str)\n",
        "\n",
        "for image in images:\n",
        "\n",
        "    fig, (ax1, ax2, ax3) = plt.subplots(1, 3, figsize = (15, 5))\n",
        "    img_0 = cv2.imread(train_image_dir+'/' + image)\n",
        "    img_1 = img_0.copy()\n",
        "    print ('Image', image)\n",
        "    \n",
        "    # a loop of 4 classes\n",
        "    for i in range(4):\n",
        "        if (ann_csv['ImageId_ClassId'] == image + \"_\" + str(i+1)).all() : \n",
        "            rle_0 = ann_csv['EncodedPixels'].values[0]\n",
        "        if isinstance(rle_0, str)!=True and i!=0:\n",
        "            continue\n",
        "        bboxes, mask_0 = get_bboxes_from_rle(rle_0, True)\n",
        "    \n",
        "        if i == 0:\n",
        "            color = (255, 0, 0)                \n",
        "        elif i == 1:\n",
        "            color = (0, 255, 0)\n",
        "        elif i == 2:\n",
        "            color = (0, 0, 255)\n",
        "        else:\n",
        "            color = (0, 0, 0)\n",
        "\n",
        "        for bbox in bboxes:\n",
        "            print('Found bbox', bbox)\n",
        "            cv2.rectangle(img_1, (bbox[0], bbox[1]), (bbox[2], bbox[3]), color,5)\n",
        "             \n",
        "    ax1.imshow(img_0)\n",
        "    ax1.set_title('Image')\n",
        "    ax2.set_title('Mask')\n",
        "    ax3.set_title('Image with derived bounding box')\n",
        "    ax2.imshow(mask_0[...,0], cmap='gray')\n",
        "    ax3.imshow(img_1)\n",
        "    plt.show()"
      ],
      "execution_count": null,
      "outputs": [
        {
          "output_type": "stream",
          "text": [
            "Image 0002cc93b.jpg\n",
            "Found bbox [113, 161, 128, 185]\n",
            "Found bbox [304, 88, 332, 194]\n",
            "Found bbox [332, 192, 356, 256]\n",
            "Found bbox [350, 63, 369, 103]\n",
            "Found bbox [741, 74, 756, 102]\n",
            "Found bbox [113, 161, 128, 185]\n",
            "Found bbox [304, 88, 332, 194]\n",
            "Found bbox [332, 192, 356, 256]\n",
            "Found bbox [350, 63, 369, 103]\n",
            "Found bbox [741, 74, 756, 102]\n",
            "Found bbox [113, 161, 128, 185]\n",
            "Found bbox [304, 88, 332, 194]\n",
            "Found bbox [332, 192, 356, 256]\n",
            "Found bbox [350, 63, 369, 103]\n",
            "Found bbox [741, 74, 756, 102]\n",
            "Found bbox [113, 161, 128, 185]\n",
            "Found bbox [304, 88, 332, 194]\n",
            "Found bbox [332, 192, 356, 256]\n",
            "Found bbox [350, 63, 369, 103]\n",
            "Found bbox [741, 74, 756, 102]\n"
          ],
          "name": "stdout"
        },
        {
          "output_type": "display_data",
          "data": {
            "image/png": "[encoded data removed]",
            "text/plain": [
              "<Figure size 1080x360 with 3 Axes>"
            ]
          },
          "metadata": {
            "tags": [],
            "needs_background": "light"
          }
        },
        {
          "output_type": "stream",
          "text": [
            "Image 0007a71bf.jpg\n",
            "Found bbox [113, 161, 128, 185]\n",
            "Found bbox [304, 88, 332, 194]\n",
            "Found bbox [332, 192, 356, 256]\n",
            "Found bbox [350, 63, 369, 103]\n",
            "Found bbox [741, 74, 756, 102]\n",
            "Found bbox [113, 161, 128, 185]\n",
            "Found bbox [304, 88, 332, 194]\n",
            "Found bbox [332, 192, 356, 256]\n",
            "Found bbox [350, 63, 369, 103]\n",
            "Found bbox [741, 74, 756, 102]\n",
            "Found bbox [113, 161, 128, 185]\n",
            "Found bbox [304, 88, 332, 194]\n",
            "Found bbox [332, 192, 356, 256]\n",
            "Found bbox [350, 63, 369, 103]\n",
            "Found bbox [741, 74, 756, 102]\n",
            "Found bbox [113, 161, 128, 185]\n",
            "Found bbox [304, 88, 332, 194]\n",
            "Found bbox [332, 192, 356, 256]\n",
            "Found bbox [350, 63, 369, 103]\n",
            "Found bbox [741, 74, 756, 102]\n"
          ],
          "name": "stdout"
        },
        {
          "output_type": "display_data",
          "data": {
            "image/png": "[encoded data removed]",
            "text/plain": [
              "<Figure size 1080x360 with 3 Axes>"
            ]
          },
          "metadata": {
            "tags": [],
            "needs_background": "light"
          }
        },
        {
          "output_type": "stream",
          "text": [
            "Image 000789191.jpg\n",
            "Found bbox [113, 161, 128, 185]\n",
            "Found bbox [304, 88, 332, 194]\n",
            "Found bbox [332, 192, 356, 256]\n",
            "Found bbox [350, 63, 369, 103]\n",
            "Found bbox [741, 74, 756, 102]\n",
            "Found bbox [113, 161, 128, 185]\n",
            "Found bbox [304, 88, 332, 194]\n",
            "Found bbox [332, 192, 356, 256]\n",
            "Found bbox [350, 63, 369, 103]\n",
            "Found bbox [741, 74, 756, 102]\n",
            "Found bbox [113, 161, 128, 185]\n",
            "Found bbox [304, 88, 332, 194]\n",
            "Found bbox [332, 192, 356, 256]\n",
            "Found bbox [350, 63, 369, 103]\n",
            "Found bbox [741, 74, 756, 102]\n",
            "Found bbox [113, 161, 128, 185]\n",
            "Found bbox [304, 88, 332, 194]\n",
            "Found bbox [332, 192, 356, 256]\n",
            "Found bbox [350, 63, 369, 103]\n",
            "Found bbox [741, 74, 756, 102]\n"
          ],
          "name": "stdout"
        },
        {
          "output_type": "display_data",
          "data": {
            "image/png": "[encoded data removed]",
            "text/plain": [
              "<Figure size 1080x360 with 3 Axes>"
            ]
          },
          "metadata": {
            "tags": [],
            "needs_background": "light"
          }
        }
      ]
    },
    {
      "cell_type": "code",
      "metadata": {
        "colab": {
          "base_uri": "https://localhost:8080/",
          "height": 195
        },
        "id": "Hu_cz80ku-bm",
        "outputId": "ebb49414-8317-4363-de9c-a995b768f523"
      },
      "source": [
        "ann_csv.head()"
      ],
      "execution_count": null,
      "outputs": [
        {
          "output_type": "execute_result",
          "data": {
            "text/html": [
              "<div>\n",
              "<style scoped>\n",
              "    .dataframe tbody tr th:only-of-type {\n",
              "        vertical-align: middle;\n",
              "    }\n",
              "\n",
              "    .dataframe tbody tr th {\n",
              "        vertical-align: top;\n",
              "    }\n",
              "\n",
              "    .dataframe thead th {\n",
              "        text-align: right;\n",
              "    }\n",
              "</style>\n",
              "<table border=\"1\" class=\"dataframe\">\n",
              "  <thead>\n",
              "    <tr style=\"text-align: right;\">\n",
              "      <th></th>\n",
              "      <th>ImageId</th>\n",
              "      <th>ClassId</th>\n",
              "      <th>EncodedPixels</th>\n",
              "      <th>ImageId_ClassId</th>\n",
              "    </tr>\n",
              "  </thead>\n",
              "  <tbody>\n",
              "    <tr>\n",
              "      <th>0</th>\n",
              "      <td>0002cc93b.jpg</td>\n",
              "      <td>1</td>\n",
              "      <td>29102 12 29346 24 29602 24 29858 24 30114 24 3...</td>\n",
              "      <td>0002cc93b.jpg_1</td>\n",
              "    </tr>\n",
              "    <tr>\n",
              "      <th>1</th>\n",
              "      <td>0007a71bf.jpg</td>\n",
              "      <td>3</td>\n",
              "      <td>18661 28 18863 82 19091 110 19347 110 19603 11...</td>\n",
              "      <td>0007a71bf.jpg_3</td>\n",
              "    </tr>\n",
              "    <tr>\n",
              "      <th>2</th>\n",
              "      <td>000a4bcdd.jpg</td>\n",
              "      <td>1</td>\n",
              "      <td>37607 3 37858 8 38108 14 38359 20 38610 25 388...</td>\n",
              "      <td>000a4bcdd.jpg_1</td>\n",
              "    </tr>\n",
              "    <tr>\n",
              "      <th>3</th>\n",
              "      <td>000f6bf48.jpg</td>\n",
              "      <td>4</td>\n",
              "      <td>131973 1 132228 4 132483 6 132738 8 132993 11 ...</td>\n",
              "      <td>000f6bf48.jpg_4</td>\n",
              "    </tr>\n",
              "    <tr>\n",
              "      <th>4</th>\n",
              "      <td>0014fce06.jpg</td>\n",
              "      <td>3</td>\n",
              "      <td>229501 11 229741 33 229981 55 230221 77 230468...</td>\n",
              "      <td>0014fce06.jpg_3</td>\n",
              "    </tr>\n",
              "  </tbody>\n",
              "</table>\n",
              "</div>"
            ],
            "text/plain": [
              "         ImageId  ...  ImageId_ClassId\n",
              "0  0002cc93b.jpg  ...  0002cc93b.jpg_1\n",
              "1  0007a71bf.jpg  ...  0007a71bf.jpg_3\n",
              "2  000a4bcdd.jpg  ...  000a4bcdd.jpg_1\n",
              "3  000f6bf48.jpg  ...  000f6bf48.jpg_4\n",
              "4  0014fce06.jpg  ...  0014fce06.jpg_3\n",
              "\n",
              "[5 rows x 4 columns]"
            ]
          },
          "metadata": {
            "tags": []
          },
          "execution_count": 70
        }
      ]
    },
    {
      "cell_type": "code",
      "metadata": {
        "colab": {
          "base_uri": "https://localhost:8080/",
          "height": 136
        },
        "id": "PPCFoLS8JikD",
        "outputId": "c4db3b57-1abb-486e-a654-d464bd42b461"
      },
      "source": [
        "ann_csv['EncodedPixels'].values[0]"
      ],
      "execution_count": null,
      "outputs": [
        {
          "output_type": "execute_result",
          "data": {
            "application/vnd.google.colaboratory.intrinsic+json": {
              "type": "string"
            },
            "text/plain": [
              "'29102 12 29346 24 29602 24 29858 24 30114 24 30370 24 30626 24 30882 24 31139 23 31395 23 31651 23 31907 23 32163 23 32419 23 32675 23 77918 27 78174 55 78429 60 78685 64 78941 68 79197 72 79452 77 79708 81 79964 85 80220 89 80475 94 80731 98 80987 102 81242 105 81498 105 81754 104 82010 104 82265 105 82521 31 82556 69 82779 27 82818 63 83038 22 83080 57 83297 17 83342 50 83555 13 83604 44 83814 8 83866 37 84073 3 84128 31 84390 25 84652 18 84918 8 85239 10 85476 29 85714 47 85960 57 86216 57 86471 58 86727 58 86983 58 87238 59 87494 59 87750 59 88005 60 88261 60 88517 60 88772 61 89028 53 89283 40 89539 32 89667 10 89795 30 89923 28 90050 29 90179 37 90306 27 90434 38 90562 14 90690 38 90817 9 90946 38 91073 3 91202 38 91458 38 91714 38 91969 39 92225 39 92481 39 92737 39 92993 39 93248 40 93504 40 93760 40 94026 30 94302 10 189792 7 190034 21 190283 28 190539 28 190795 28 191051 28 191307 28 191563 28 191819 28 192075 28 192331 28 192587 28 192843 23 193099 14 193355 5'"
            ]
          },
          "metadata": {
            "tags": []
          },
          "execution_count": 69
        }
      ]
    },
    {
      "cell_type": "code",
      "metadata": {
        "colab": {
          "base_uri": "https://localhost:8080/"
        },
        "id": "tDX2VJ-AWFkK",
        "outputId": "8108b984-356d-46e3-8060-22c288e92fe8"
      },
      "source": [
        "ann_csv.shape"
      ],
      "execution_count": null,
      "outputs": [
        {
          "output_type": "execute_result",
          "data": {
            "text/plain": [
              "(7095, 4)"
            ]
          },
          "metadata": {
            "tags": []
          },
          "execution_count": 77
        }
      ]
    },
    {
      "cell_type": "code",
      "metadata": {
        "id": "L4W9RTu7RGyY"
      },
      "source": [
        "ann_csv['BBOX'] = ann_csv['EncodedPixels'].apply(get_bboxes_from_rle)"
      ],
      "execution_count": null,
      "outputs": []
    },
    {
      "cell_type": "code",
      "metadata": {
        "colab": {
          "base_uri": "https://localhost:8080/",
          "height": 343
        },
        "id": "M1qOw3q-Uzp5",
        "outputId": "8f492791-4c8f-435d-82fe-e55c43414484"
      },
      "source": [
        "ann_csv.head(10)"
      ],
      "execution_count": null,
      "outputs": [
        {
          "output_type": "execute_result",
          "data": {
            "text/html": [
              "<div>\n",
              "<style scoped>\n",
              "    .dataframe tbody tr th:only-of-type {\n",
              "        vertical-align: middle;\n",
              "    }\n",
              "\n",
              "    .dataframe tbody tr th {\n",
              "        vertical-align: top;\n",
              "    }\n",
              "\n",
              "    .dataframe thead th {\n",
              "        text-align: right;\n",
              "    }\n",
              "</style>\n",
              "<table border=\"1\" class=\"dataframe\">\n",
              "  <thead>\n",
              "    <tr style=\"text-align: right;\">\n",
              "      <th></th>\n",
              "      <th>ImageId</th>\n",
              "      <th>ClassId</th>\n",
              "      <th>EncodedPixels</th>\n",
              "      <th>ImageId_ClassId</th>\n",
              "      <th>BBOX</th>\n",
              "    </tr>\n",
              "  </thead>\n",
              "  <tbody>\n",
              "    <tr>\n",
              "      <th>0</th>\n",
              "      <td>0002cc93b.jpg</td>\n",
              "      <td>1</td>\n",
              "      <td>29102 12 29346 24 29602 24 29858 24 30114 24 3...</td>\n",
              "      <td>0002cc93b.jpg_1</td>\n",
              "      <td>[[113, 161, 128, 185], [304, 88, 332, 194], [3...</td>\n",
              "    </tr>\n",
              "    <tr>\n",
              "      <th>1</th>\n",
              "      <td>0007a71bf.jpg</td>\n",
              "      <td>3</td>\n",
              "      <td>18661 28 18863 82 19091 110 19347 110 19603 11...</td>\n",
              "      <td>0007a71bf.jpg_3</td>\n",
              "      <td>[[72, 146, 86, 256], [1145, 4, 1168, 255]]</td>\n",
              "    </tr>\n",
              "    <tr>\n",
              "      <th>2</th>\n",
              "      <td>000a4bcdd.jpg</td>\n",
              "      <td>1</td>\n",
              "      <td>37607 3 37858 8 38108 14 38359 20 38610 25 388...</td>\n",
              "      <td>000a4bcdd.jpg_1</td>\n",
              "      <td>[[146, 206, 188, 242], [244, 202, 268, 225], [...</td>\n",
              "    </tr>\n",
              "    <tr>\n",
              "      <th>3</th>\n",
              "      <td>000f6bf48.jpg</td>\n",
              "      <td>4</td>\n",
              "      <td>131973 1 132228 4 132483 6 132738 8 132993 11 ...</td>\n",
              "      <td>000f6bf48.jpg_4</td>\n",
              "      <td>[[515, 0, 861, 218], [853, 126, 1132, 256]]</td>\n",
              "    </tr>\n",
              "    <tr>\n",
              "      <th>4</th>\n",
              "      <td>0014fce06.jpg</td>\n",
              "      <td>3</td>\n",
              "      <td>229501 11 229741 33 229981 55 230221 77 230468...</td>\n",
              "      <td>0014fce06.jpg_3</td>\n",
              "      <td>[[896, 60, 930, 250]]</td>\n",
              "    </tr>\n",
              "    <tr>\n",
              "      <th>5</th>\n",
              "      <td>0025bde0c.jpg</td>\n",
              "      <td>3</td>\n",
              "      <td>8458 14 8707 35 8963 48 9219 71 9475 88 9731 8...</td>\n",
              "      <td>0025bde0c.jpg_3</td>\n",
              "      <td>[[33, 2, 228, 107], [836, 95, 869, 177], [889,...</td>\n",
              "    </tr>\n",
              "    <tr>\n",
              "      <th>6</th>\n",
              "      <td>0025bde0c.jpg</td>\n",
              "      <td>4</td>\n",
              "      <td>315139 8 315395 15 315651 16 315906 17 316162 ...</td>\n",
              "      <td>0025bde0c.jpg_4</td>\n",
              "      <td>[[1231, 0, 1417, 48], [1389, 65, 1513, 186]]</td>\n",
              "    </tr>\n",
              "    <tr>\n",
              "      <th>7</th>\n",
              "      <td>002af848d.jpg</td>\n",
              "      <td>4</td>\n",
              "      <td>290800 6 291055 13 291311 15 291566 18 291822 ...</td>\n",
              "      <td>002af848d.jpg_4</td>\n",
              "      <td>[[1135, 222, 1225, 255], [1382, 189, 1455, 255]]</td>\n",
              "    </tr>\n",
              "    <tr>\n",
              "      <th>8</th>\n",
              "      <td>002fc4e19.jpg</td>\n",
              "      <td>1</td>\n",
              "      <td>146021 3 146275 10 146529 40 146783 46 147038 ...</td>\n",
              "      <td>002fc4e19.jpg_1</td>\n",
              "      <td>[[570, 83, 596, 161]]</td>\n",
              "    </tr>\n",
              "    <tr>\n",
              "      <th>9</th>\n",
              "      <td>002fc4e19.jpg</td>\n",
              "      <td>2</td>\n",
              "      <td>145658 7 145901 20 146144 33 146386 47 146629 ...</td>\n",
              "      <td>002fc4e19.jpg_2</td>\n",
              "      <td>[[568, 163, 585, 256]]</td>\n",
              "    </tr>\n",
              "  </tbody>\n",
              "</table>\n",
              "</div>"
            ],
            "text/plain": [
              "         ImageId  ...                                               BBOX\n",
              "0  0002cc93b.jpg  ...  [[113, 161, 128, 185], [304, 88, 332, 194], [3...\n",
              "1  0007a71bf.jpg  ...         [[72, 146, 86, 256], [1145, 4, 1168, 255]]\n",
              "2  000a4bcdd.jpg  ...  [[146, 206, 188, 242], [244, 202, 268, 225], [...\n",
              "3  000f6bf48.jpg  ...        [[515, 0, 861, 218], [853, 126, 1132, 256]]\n",
              "4  0014fce06.jpg  ...                              [[896, 60, 930, 250]]\n",
              "5  0025bde0c.jpg  ...  [[33, 2, 228, 107], [836, 95, 869, 177], [889,...\n",
              "6  0025bde0c.jpg  ...       [[1231, 0, 1417, 48], [1389, 65, 1513, 186]]\n",
              "7  002af848d.jpg  ...   [[1135, 222, 1225, 255], [1382, 189, 1455, 255]]\n",
              "8  002fc4e19.jpg  ...                              [[570, 83, 596, 161]]\n",
              "9  002fc4e19.jpg  ...                             [[568, 163, 585, 256]]\n",
              "\n",
              "[10 rows x 5 columns]"
            ]
          },
          "metadata": {
            "tags": []
          },
          "execution_count": 95
        }
      ]
    },
    {
      "cell_type": "code",
      "metadata": {
        "colab": {
          "base_uri": "https://localhost:8080/"
        },
        "id": "aOUFVKxJduaS",
        "outputId": "7ec5b6ce-5a88-4aa3-85ec-09931ddee45a"
      },
      "source": [
        "ann_csv.shape"
      ],
      "execution_count": null,
      "outputs": [
        {
          "output_type": "execute_result",
          "data": {
            "text/plain": [
              "(7095, 5)"
            ]
          },
          "metadata": {
            "tags": []
          },
          "execution_count": 96
        }
      ]
    },
    {
      "cell_type": "code",
      "metadata": {
        "id": "3xYfDIjshSMY"
      },
      "source": [
        "ann_csv.to_csv(r'/content/train_ann_bbox.csv')"
      ],
      "execution_count": null,
      "outputs": []
    },
    {
      "cell_type": "code",
      "metadata": {
        "id": "ONoJxl7PiAbZ"
      },
      "source": [
        "df = pd.read_csv('/content/train_ann_bbox.csv')"
      ],
      "execution_count": null,
      "outputs": []
    },
    {
      "cell_type": "code",
      "metadata": {
        "colab": {
          "base_uri": "https://localhost:8080/",
          "height": 343
        },
        "id": "_6OUul66iF40",
        "outputId": "92a802b5-21b1-48c9-9ebc-090e38a8eeba"
      },
      "source": [
        "df.head(10)"
      ],
      "execution_count": null,
      "outputs": [
        {
          "output_type": "execute_result",
          "data": {
            "text/html": [
              "<div>\n",
              "<style scoped>\n",
              "    .dataframe tbody tr th:only-of-type {\n",
              "        vertical-align: middle;\n",
              "    }\n",
              "\n",
              "    .dataframe tbody tr th {\n",
              "        vertical-align: top;\n",
              "    }\n",
              "\n",
              "    .dataframe thead th {\n",
              "        text-align: right;\n",
              "    }\n",
              "</style>\n",
              "<table border=\"1\" class=\"dataframe\">\n",
              "  <thead>\n",
              "    <tr style=\"text-align: right;\">\n",
              "      <th></th>\n",
              "      <th>Unnamed: 0</th>\n",
              "      <th>ImageId</th>\n",
              "      <th>ClassId</th>\n",
              "      <th>EncodedPixels</th>\n",
              "      <th>ImageId_ClassId</th>\n",
              "      <th>BBOX</th>\n",
              "    </tr>\n",
              "  </thead>\n",
              "  <tbody>\n",
              "    <tr>\n",
              "      <th>0</th>\n",
              "      <td>0</td>\n",
              "      <td>0002cc93b.jpg</td>\n",
              "      <td>1</td>\n",
              "      <td>29102 12 29346 24 29602 24 29858 24 30114 24 3...</td>\n",
              "      <td>0002cc93b.jpg_1</td>\n",
              "      <td>[[113, 161, 128, 185], [304, 88, 332, 194], [3...</td>\n",
              "    </tr>\n",
              "    <tr>\n",
              "      <th>1</th>\n",
              "      <td>1</td>\n",
              "      <td>0007a71bf.jpg</td>\n",
              "      <td>3</td>\n",
              "      <td>18661 28 18863 82 19091 110 19347 110 19603 11...</td>\n",
              "      <td>0007a71bf.jpg_3</td>\n",
              "      <td>[[72, 146, 86, 256], [1145, 4, 1168, 255]]</td>\n",
              "    </tr>\n",
              "    <tr>\n",
              "      <th>2</th>\n",
              "      <td>2</td>\n",
              "      <td>000a4bcdd.jpg</td>\n",
              "      <td>1</td>\n",
              "      <td>37607 3 37858 8 38108 14 38359 20 38610 25 388...</td>\n",
              "      <td>000a4bcdd.jpg_1</td>\n",
              "      <td>[[146, 206, 188, 242], [244, 202, 268, 225], [...</td>\n",
              "    </tr>\n",
              "    <tr>\n",
              "      <th>3</th>\n",
              "      <td>3</td>\n",
              "      <td>000f6bf48.jpg</td>\n",
              "      <td>4</td>\n",
              "      <td>131973 1 132228 4 132483 6 132738 8 132993 11 ...</td>\n",
              "      <td>000f6bf48.jpg_4</td>\n",
              "      <td>[[515, 0, 861, 218], [853, 126, 1132, 256]]</td>\n",
              "    </tr>\n",
              "    <tr>\n",
              "      <th>4</th>\n",
              "      <td>4</td>\n",
              "      <td>0014fce06.jpg</td>\n",
              "      <td>3</td>\n",
              "      <td>229501 11 229741 33 229981 55 230221 77 230468...</td>\n",
              "      <td>0014fce06.jpg_3</td>\n",
              "      <td>[[896, 60, 930, 250]]</td>\n",
              "    </tr>\n",
              "    <tr>\n",
              "      <th>5</th>\n",
              "      <td>5</td>\n",
              "      <td>0025bde0c.jpg</td>\n",
              "      <td>3</td>\n",
              "      <td>8458 14 8707 35 8963 48 9219 71 9475 88 9731 8...</td>\n",
              "      <td>0025bde0c.jpg_3</td>\n",
              "      <td>[[33, 2, 228, 107], [836, 95, 869, 177], [889,...</td>\n",
              "    </tr>\n",
              "    <tr>\n",
              "      <th>6</th>\n",
              "      <td>6</td>\n",
              "      <td>0025bde0c.jpg</td>\n",
              "      <td>4</td>\n",
              "      <td>315139 8 315395 15 315651 16 315906 17 316162 ...</td>\n",
              "      <td>0025bde0c.jpg_4</td>\n",
              "      <td>[[1231, 0, 1417, 48], [1389, 65, 1513, 186]]</td>\n",
              "    </tr>\n",
              "    <tr>\n",
              "      <th>7</th>\n",
              "      <td>7</td>\n",
              "      <td>002af848d.jpg</td>\n",
              "      <td>4</td>\n",
              "      <td>290800 6 291055 13 291311 15 291566 18 291822 ...</td>\n",
              "      <td>002af848d.jpg_4</td>\n",
              "      <td>[[1135, 222, 1225, 255], [1382, 189, 1455, 255]]</td>\n",
              "    </tr>\n",
              "    <tr>\n",
              "      <th>8</th>\n",
              "      <td>8</td>\n",
              "      <td>002fc4e19.jpg</td>\n",
              "      <td>1</td>\n",
              "      <td>146021 3 146275 10 146529 40 146783 46 147038 ...</td>\n",
              "      <td>002fc4e19.jpg_1</td>\n",
              "      <td>[[570, 83, 596, 161]]</td>\n",
              "    </tr>\n",
              "    <tr>\n",
              "      <th>9</th>\n",
              "      <td>9</td>\n",
              "      <td>002fc4e19.jpg</td>\n",
              "      <td>2</td>\n",
              "      <td>145658 7 145901 20 146144 33 146386 47 146629 ...</td>\n",
              "      <td>002fc4e19.jpg_2</td>\n",
              "      <td>[[568, 163, 585, 256]]</td>\n",
              "    </tr>\n",
              "  </tbody>\n",
              "</table>\n",
              "</div>"
            ],
            "text/plain": [
              "   Unnamed: 0  ...                                               BBOX\n",
              "0           0  ...  [[113, 161, 128, 185], [304, 88, 332, 194], [3...\n",
              "1           1  ...         [[72, 146, 86, 256], [1145, 4, 1168, 255]]\n",
              "2           2  ...  [[146, 206, 188, 242], [244, 202, 268, 225], [...\n",
              "3           3  ...        [[515, 0, 861, 218], [853, 126, 1132, 256]]\n",
              "4           4  ...                              [[896, 60, 930, 250]]\n",
              "5           5  ...  [[33, 2, 228, 107], [836, 95, 869, 177], [889,...\n",
              "6           6  ...       [[1231, 0, 1417, 48], [1389, 65, 1513, 186]]\n",
              "7           7  ...   [[1135, 222, 1225, 255], [1382, 189, 1455, 255]]\n",
              "8           8  ...                              [[570, 83, 596, 161]]\n",
              "9           9  ...                             [[568, 163, 585, 256]]\n",
              "\n",
              "[10 rows x 6 columns]"
            ]
          },
          "metadata": {
            "tags": []
          },
          "execution_count": 99
        }
      ]
    }
  ]
}